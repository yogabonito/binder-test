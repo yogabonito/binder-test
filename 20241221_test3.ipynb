{
 "cells": [
  {
   "cell_type": "code",
   "execution_count": 1,
   "id": "49223f64-442d-41d1-a3b0-04ce3c3d17dd",
   "metadata": {},
   "outputs": [],
   "source": [
    "import random\n",
    "import pandas as pd"
   ]
  },
  {
   "cell_type": "code",
   "execution_count": 2,
   "id": "65764133-b6f4-4c6f-a5be-c82e144c7a10",
   "metadata": {},
   "outputs": [],
   "source": [
    "cities = {\n",
    "    \"Villach\": 1,\n",
    "    \"Klagenfurt\": 2,\n",
    "    \"Spittal\": 3,\n",
    "    \"Feldkirchen\": 4,\n",
    "    \"Wolfsberg\": 5\n",
    "}\n",
    "n_measurements = 1000"
   ]
  },
  {
   "cell_type": "code",
   "execution_count": 3,
   "id": "c90e1068-ca86-4af5-aaea-f5858306de70",
   "metadata": {},
   "outputs": [],
   "source": [
    "random.seed(1)\n",
    "df = pd.DataFrame({\n",
    "    \"city\": [\n",
    "        random.choice(list(cities.keys()))\n",
    "        for _ in range(n_measurements)\n",
    "    ],\n",
    "}).assign(\n",
    "    value=lambda _df:\n",
    "        [\n",
    "            random.random()\n",
    "            if random.random() < 1 - .05 * cities[_df.city.loc[i]]\n",
    "            else pd.NA\n",
    "            for i in range(len(_df))\n",
    "        ]\n",
    ")"
   ]
  },
  {
   "cell_type": "markdown",
   "id": "10b8c5dd-3762-47e6-9af3-221918388f40",
   "metadata": {},
   "source": [
    "<div class=\"alert alert-success\">\n",
    "\n",
    "**Wie viele fehlende Werte gibt es in der `value`-Spalte von `df` in den verschiedenen Städten? Nutzen Sie bei Ermittlung `groupby`!**\n",
    "</div>"
   ]
  },
  {
   "cell_type": "code",
   "execution_count": 4,
   "id": "f20022c2-b21a-4584-9f9b-47778a712858",
   "metadata": {},
   "outputs": [
    {
     "data": {
      "text/html": [
       "<div>\n",
       "<style scoped>\n",
       "    .dataframe tbody tr th:only-of-type {\n",
       "        vertical-align: middle;\n",
       "    }\n",
       "\n",
       "    .dataframe tbody tr th {\n",
       "        vertical-align: top;\n",
       "    }\n",
       "\n",
       "    .dataframe thead th {\n",
       "        text-align: right;\n",
       "    }\n",
       "</style>\n",
       "<table border=\"1\" class=\"dataframe\">\n",
       "  <thead>\n",
       "    <tr style=\"text-align: right;\">\n",
       "      <th></th>\n",
       "      <th>city</th>\n",
       "      <th>value</th>\n",
       "    </tr>\n",
       "  </thead>\n",
       "  <tbody>\n",
       "    <tr>\n",
       "      <th>0</th>\n",
       "      <td>Klagenfurt</td>\n",
       "      <td>0.992498</td>\n",
       "    </tr>\n",
       "    <tr>\n",
       "      <th>1</th>\n",
       "      <td>Wolfsberg</td>\n",
       "      <td>&lt;NA&gt;</td>\n",
       "    </tr>\n",
       "    <tr>\n",
       "      <th>2</th>\n",
       "      <td>Villach</td>\n",
       "      <td>0.746649</td>\n",
       "    </tr>\n",
       "    <tr>\n",
       "      <th>3</th>\n",
       "      <td>Spittal</td>\n",
       "      <td>0.942314</td>\n",
       "    </tr>\n",
       "    <tr>\n",
       "      <th>4</th>\n",
       "      <td>Villach</td>\n",
       "      <td>0.402575</td>\n",
       "    </tr>\n",
       "    <tr>\n",
       "      <th>...</th>\n",
       "      <td>...</td>\n",
       "      <td>...</td>\n",
       "    </tr>\n",
       "    <tr>\n",
       "      <th>995</th>\n",
       "      <td>Villach</td>\n",
       "      <td>0.511903</td>\n",
       "    </tr>\n",
       "    <tr>\n",
       "      <th>996</th>\n",
       "      <td>Klagenfurt</td>\n",
       "      <td>0.676765</td>\n",
       "    </tr>\n",
       "    <tr>\n",
       "      <th>997</th>\n",
       "      <td>Villach</td>\n",
       "      <td>0.589412</td>\n",
       "    </tr>\n",
       "    <tr>\n",
       "      <th>998</th>\n",
       "      <td>Wolfsberg</td>\n",
       "      <td>&lt;NA&gt;</td>\n",
       "    </tr>\n",
       "    <tr>\n",
       "      <th>999</th>\n",
       "      <td>Feldkirchen</td>\n",
       "      <td>&lt;NA&gt;</td>\n",
       "    </tr>\n",
       "  </tbody>\n",
       "</table>\n",
       "<p>1000 rows × 2 columns</p>\n",
       "</div>"
      ],
      "text/plain": [
       "            city     value\n",
       "0     Klagenfurt  0.992498\n",
       "1      Wolfsberg      <NA>\n",
       "2        Villach  0.746649\n",
       "3        Spittal  0.942314\n",
       "4        Villach  0.402575\n",
       "..           ...       ...\n",
       "995      Villach  0.511903\n",
       "996   Klagenfurt  0.676765\n",
       "997      Villach  0.589412\n",
       "998    Wolfsberg      <NA>\n",
       "999  Feldkirchen      <NA>\n",
       "\n",
       "[1000 rows x 2 columns]"
      ]
     },
     "execution_count": 4,
     "metadata": {},
     "output_type": "execute_result"
    }
   ],
   "source": [
    "df"
   ]
  },
  {
   "cell_type": "code",
   "execution_count": null,
   "id": "22ccec76-6dda-4741-9356-33395af4638e",
   "metadata": {},
   "outputs": [],
   "source": []
  }
 ],
 "metadata": {
  "kernelspec": {
   "display_name": "Python 3 (ipykernel)",
   "language": "python",
   "name": "python3"
  },
  "language_info": {
   "codemirror_mode": {
    "name": "ipython",
    "version": 3
   },
   "file_extension": ".py",
   "mimetype": "text/x-python",
   "name": "python",
   "nbconvert_exporter": "python",
   "pygments_lexer": "ipython3",
   "version": "3.11.10"
  }
 },
 "nbformat": 4,
 "nbformat_minor": 5
}
