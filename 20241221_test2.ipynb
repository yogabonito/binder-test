{
 "cells": [
  {
   "cell_type": "code",
   "execution_count": 1,
   "id": "b27d173b-b5d8-4b93-9e7e-8d36a0f4da79",
   "metadata": {},
   "outputs": [],
   "source": [
    "import random\n",
    "import pandas as pd"
   ]
  },
  {
   "cell_type": "code",
   "execution_count": 2,
   "id": "3a81711a-3f3b-433b-8f59-bf95e46665d5",
   "metadata": {},
   "outputs": [],
   "source": [
    "random.seed(1)\n",
    "id_numbers = list(range(1000))\n",
    "for _ in range(int(random.random() * 50)):\n",
    "    del id_numbers[random.choice(range(len(id_numbers)))]\n",
    "df = pd.DataFrame(\n",
    "    {\n",
    "        \"product_id\":\n",
    "            pd.Series(id_numbers)\n",
    "            .map(lambda n: f\"{n}_id_number\"),\n",
    "        \"price\":\n",
    "            pd.Series(random.random() for _ in range(len(id_numbers))).round(2)\n",
    "    }\n",
    ")\n",
    "del id_numbers"
   ]
  },
  {
   "cell_type": "markdown",
   "id": "7a7ed7b7-4cde-4329-935b-e45c63fc83c5",
   "metadata": {},
   "source": [
    "<div class=\"alert alert-success\">\n",
    "\n",
    "**Welche ID-Nummern scheinen in der `product_id`-Spalte in `df` zu fehlen?**\n",
    "</div>"
   ]
  },
  {
   "cell_type": "code",
   "execution_count": 3,
   "id": "59701785-be8f-4f7a-bf43-860f08fb547f",
   "metadata": {},
   "outputs": [
    {
     "data": {
      "text/html": [
       "<div>\n",
       "<style scoped>\n",
       "    .dataframe tbody tr th:only-of-type {\n",
       "        vertical-align: middle;\n",
       "    }\n",
       "\n",
       "    .dataframe tbody tr th {\n",
       "        vertical-align: top;\n",
       "    }\n",
       "\n",
       "    .dataframe thead th {\n",
       "        text-align: right;\n",
       "    }\n",
       "</style>\n",
       "<table border=\"1\" class=\"dataframe\">\n",
       "  <thead>\n",
       "    <tr style=\"text-align: right;\">\n",
       "      <th></th>\n",
       "      <th>product_id</th>\n",
       "      <th>price</th>\n",
       "    </tr>\n",
       "  </thead>\n",
       "  <tbody>\n",
       "    <tr>\n",
       "      <th>0</th>\n",
       "      <td>0_id_number</td>\n",
       "      <td>0.50</td>\n",
       "    </tr>\n",
       "    <tr>\n",
       "      <th>1</th>\n",
       "      <td>1_id_number</td>\n",
       "      <td>0.45</td>\n",
       "    </tr>\n",
       "    <tr>\n",
       "      <th>2</th>\n",
       "      <td>2_id_number</td>\n",
       "      <td>0.65</td>\n",
       "    </tr>\n",
       "    <tr>\n",
       "      <th>3</th>\n",
       "      <td>3_id_number</td>\n",
       "      <td>0.79</td>\n",
       "    </tr>\n",
       "    <tr>\n",
       "      <th>4</th>\n",
       "      <td>4_id_number</td>\n",
       "      <td>0.09</td>\n",
       "    </tr>\n",
       "    <tr>\n",
       "      <th>...</th>\n",
       "      <td>...</td>\n",
       "      <td>...</td>\n",
       "    </tr>\n",
       "    <tr>\n",
       "      <th>989</th>\n",
       "      <td>995_id_number</td>\n",
       "      <td>0.54</td>\n",
       "    </tr>\n",
       "    <tr>\n",
       "      <th>990</th>\n",
       "      <td>996_id_number</td>\n",
       "      <td>0.44</td>\n",
       "    </tr>\n",
       "    <tr>\n",
       "      <th>991</th>\n",
       "      <td>997_id_number</td>\n",
       "      <td>0.76</td>\n",
       "    </tr>\n",
       "    <tr>\n",
       "      <th>992</th>\n",
       "      <td>998_id_number</td>\n",
       "      <td>0.84</td>\n",
       "    </tr>\n",
       "    <tr>\n",
       "      <th>993</th>\n",
       "      <td>999_id_number</td>\n",
       "      <td>0.23</td>\n",
       "    </tr>\n",
       "  </tbody>\n",
       "</table>\n",
       "<p>994 rows × 2 columns</p>\n",
       "</div>"
      ],
      "text/plain": [
       "        product_id  price\n",
       "0      0_id_number   0.50\n",
       "1      1_id_number   0.45\n",
       "2      2_id_number   0.65\n",
       "3      3_id_number   0.79\n",
       "4      4_id_number   0.09\n",
       "..             ...    ...\n",
       "989  995_id_number   0.54\n",
       "990  996_id_number   0.44\n",
       "991  997_id_number   0.76\n",
       "992  998_id_number   0.84\n",
       "993  999_id_number   0.23\n",
       "\n",
       "[994 rows x 2 columns]"
      ]
     },
     "execution_count": 3,
     "metadata": {},
     "output_type": "execute_result"
    }
   ],
   "source": [
    "df"
   ]
  },
  {
   "cell_type": "code",
   "execution_count": null,
   "id": "75e0016a-d9e7-419b-b72a-6b6c9b635f09",
   "metadata": {},
   "outputs": [],
   "source": []
  }
 ],
 "metadata": {
  "kernelspec": {
   "display_name": "Python 3 (ipykernel)",
   "language": "python",
   "name": "python3"
  },
  "language_info": {
   "codemirror_mode": {
    "name": "ipython",
    "version": 3
   },
   "file_extension": ".py",
   "mimetype": "text/x-python",
   "name": "python",
   "nbconvert_exporter": "python",
   "pygments_lexer": "ipython3",
   "version": "3.11.10"
  }
 },
 "nbformat": 4,
 "nbformat_minor": 5
}
