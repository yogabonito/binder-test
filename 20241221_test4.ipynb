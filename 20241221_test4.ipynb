{
 "cells": [
  {
   "cell_type": "code",
   "execution_count": 1,
   "id": "49223f64-442d-41d1-a3b0-04ce3c3d17dd",
   "metadata": {},
   "outputs": [],
   "source": [
    "import random\n",
    "import pandas as pd"
   ]
  },
  {
   "cell_type": "code",
   "execution_count": 2,
   "id": "65764133-b6f4-4c6f-a5be-c82e144c7a10",
   "metadata": {},
   "outputs": [],
   "source": [
    "cities = {\n",
    "    \"Villach\": 1,\n",
    "    \"Klagenfurt\": 2,\n",
    "    \"Spittal\": 3,\n",
    "    \"Feldkirchen\": 4,\n",
    "    \"Wolfsberg\": 5\n",
    "}\n",
    "n_measurements = 1000"
   ]
  },
  {
   "cell_type": "code",
   "execution_count": 3,
   "id": "c90e1068-ca86-4af5-aaea-f5858306de70",
   "metadata": {},
   "outputs": [],
   "source": [
    "df = pd.DataFrame({\n",
    "    \"city\": [\n",
    "        random.choice(list(cities.keys()))\n",
    "        for _ in range(n_measurements)\n",
    "    ],\n",
    "    \"measured_value\": [\n",
    "        random.random() * random.random() * 1000\n",
    "        for _ in range(n_measurements)\n",
    "    ]\n",
    "}).assign(\n",
    "    real_value=lambda _df:\n",
    "        _df.measured_value\n",
    "        + _df.city.map(lambda c: cities[c] * random.random())\n",
    ")"
   ]
  },
  {
   "cell_type": "markdown",
   "id": "aafe0f3d-d725-440b-9d4f-50617dfd66a0",
   "metadata": {},
   "source": [
    "<div class=\"alert alert-success\">\n",
    "\n",
    "**In welcher Stadt gibt es die größte durchschnittliche Differenz zwischen den Spalten `measured_value` und `real_value`? Nutzen Sie bei Ermittlung `groupby`!**\n",
    "\n",
    "**Sie können davon ausgehen, dass die Spalte `real_value` immer einen größeren Wert enthält als die Spalte `measured_value`.**\n",
    "</div>"
   ]
  },
  {
   "cell_type": "code",
   "execution_count": 4,
   "id": "5e15bb74-ec7f-4b0f-adf7-4aeb4172a8fa",
   "metadata": {},
   "outputs": [
    {
     "data": {
      "text/html": [
       "<div>\n",
       "<style scoped>\n",
       "    .dataframe tbody tr th:only-of-type {\n",
       "        vertical-align: middle;\n",
       "    }\n",
       "\n",
       "    .dataframe tbody tr th {\n",
       "        vertical-align: top;\n",
       "    }\n",
       "\n",
       "    .dataframe thead th {\n",
       "        text-align: right;\n",
       "    }\n",
       "</style>\n",
       "<table border=\"1\" class=\"dataframe\">\n",
       "  <thead>\n",
       "    <tr style=\"text-align: right;\">\n",
       "      <th></th>\n",
       "      <th>city</th>\n",
       "      <th>measured_value</th>\n",
       "      <th>real_value</th>\n",
       "    </tr>\n",
       "  </thead>\n",
       "  <tbody>\n",
       "    <tr>\n",
       "      <th>0</th>\n",
       "      <td>Spittal</td>\n",
       "      <td>57.915789</td>\n",
       "      <td>59.754776</td>\n",
       "    </tr>\n",
       "    <tr>\n",
       "      <th>1</th>\n",
       "      <td>Feldkirchen</td>\n",
       "      <td>356.634291</td>\n",
       "      <td>359.626551</td>\n",
       "    </tr>\n",
       "    <tr>\n",
       "      <th>2</th>\n",
       "      <td>Feldkirchen</td>\n",
       "      <td>433.249125</td>\n",
       "      <td>436.353648</td>\n",
       "    </tr>\n",
       "    <tr>\n",
       "      <th>3</th>\n",
       "      <td>Spittal</td>\n",
       "      <td>267.150695</td>\n",
       "      <td>268.632139</td>\n",
       "    </tr>\n",
       "    <tr>\n",
       "      <th>4</th>\n",
       "      <td>Feldkirchen</td>\n",
       "      <td>156.499601</td>\n",
       "      <td>158.323480</td>\n",
       "    </tr>\n",
       "    <tr>\n",
       "      <th>...</th>\n",
       "      <td>...</td>\n",
       "      <td>...</td>\n",
       "      <td>...</td>\n",
       "    </tr>\n",
       "    <tr>\n",
       "      <th>995</th>\n",
       "      <td>Villach</td>\n",
       "      <td>59.969363</td>\n",
       "      <td>60.258230</td>\n",
       "    </tr>\n",
       "    <tr>\n",
       "      <th>996</th>\n",
       "      <td>Villach</td>\n",
       "      <td>133.680373</td>\n",
       "      <td>134.642902</td>\n",
       "    </tr>\n",
       "    <tr>\n",
       "      <th>997</th>\n",
       "      <td>Villach</td>\n",
       "      <td>604.166668</td>\n",
       "      <td>604.581978</td>\n",
       "    </tr>\n",
       "    <tr>\n",
       "      <th>998</th>\n",
       "      <td>Villach</td>\n",
       "      <td>407.534758</td>\n",
       "      <td>408.278798</td>\n",
       "    </tr>\n",
       "    <tr>\n",
       "      <th>999</th>\n",
       "      <td>Wolfsberg</td>\n",
       "      <td>121.065204</td>\n",
       "      <td>123.829179</td>\n",
       "    </tr>\n",
       "  </tbody>\n",
       "</table>\n",
       "<p>1000 rows × 3 columns</p>\n",
       "</div>"
      ],
      "text/plain": [
       "            city  measured_value  real_value\n",
       "0        Spittal       57.915789   59.754776\n",
       "1    Feldkirchen      356.634291  359.626551\n",
       "2    Feldkirchen      433.249125  436.353648\n",
       "3        Spittal      267.150695  268.632139\n",
       "4    Feldkirchen      156.499601  158.323480\n",
       "..           ...             ...         ...\n",
       "995      Villach       59.969363   60.258230\n",
       "996      Villach      133.680373  134.642902\n",
       "997      Villach      604.166668  604.581978\n",
       "998      Villach      407.534758  408.278798\n",
       "999    Wolfsberg      121.065204  123.829179\n",
       "\n",
       "[1000 rows x 3 columns]"
      ]
     },
     "execution_count": 4,
     "metadata": {},
     "output_type": "execute_result"
    }
   ],
   "source": [
    "df"
   ]
  },
  {
   "cell_type": "code",
   "execution_count": null,
   "id": "e1071921-33d8-4c71-b8da-1ef642bd2ef3",
   "metadata": {},
   "outputs": [],
   "source": []
  }
 ],
 "metadata": {
  "kernelspec": {
   "display_name": "Python 3 (ipykernel)",
   "language": "python",
   "name": "python3"
  },
  "language_info": {
   "codemirror_mode": {
    "name": "ipython",
    "version": 3
   },
   "file_extension": ".py",
   "mimetype": "text/x-python",
   "name": "python",
   "nbconvert_exporter": "python",
   "pygments_lexer": "ipython3",
   "version": "3.11.10"
  }
 },
 "nbformat": 4,
 "nbformat_minor": 5
}
